{
 "cells": [
  {
   "cell_type": "markdown",
   "id": "1ca3b83d-a4de-4657-9343-84d64e6f39aa",
   "metadata": {},
   "source": [
    "# Box model for stable carbon isotope mass balance"
   ]
  },
  {
   "cell_type": "markdown",
   "id": "16bbfe64-58a3-428c-bc2c-3de55a88292c",
   "metadata": {},
   "source": [
    "* * * \n",
    "### _Import necessary libraries:_"
   ]
  },
  {
   "cell_type": "code",
   "execution_count": 81,
   "id": "9b26eb7f-12d8-480b-b800-033a731cc9f9",
   "metadata": {},
   "outputs": [],
   "source": [
    "import numpy as np\n",
    "import matplotlib.pyplot as plt\n",
    "import plotly.express as px\n",
    "import json\n",
    "import requests\n",
    "import pandas as pd\n",
    "import math"
   ]
  },
  {
   "cell_type": "markdown",
   "id": "9daca7d9-3a6c-4bf0-bc85-2a66b537068c",
   "metadata": {},
   "source": [
    "* * *\n",
    "### _Define initial composition of marine pool:_"
   ]
  },
  {
   "cell_type": "code",
   "execution_count": null,
   "id": "041a1d63-54bc-421a-bd1a-48cd026a49f9",
   "metadata": {},
   "outputs": [],
   "source": [
    "###Initial marine DIC composition and volume:"
   ]
  },
  {
   "cell_type": "markdown",
   "id": "e276f8fb-2f72-4ebf-82b4-a5e6740eeebf",
   "metadata": {},
   "source": [
    "* * *\n",
    "### _Define parameters for inputs:_"
   ]
  },
  {
   "cell_type": "code",
   "execution_count": 7,
   "id": "e529942d-7115-4172-a8d2-c84fc070dfdc",
   "metadata": {},
   "outputs": [],
   "source": []
  },
  {
   "cell_type": "code",
   "execution_count": 168,
   "id": "6744856e-9819-4d06-85b4-5f9a57251b80",
   "metadata": {},
   "outputs": [],
   "source": [
    "#####Fluxes\n",
    "delta=38000*.035\n",
    "F_riv=1.2 #Gt/yr; combined riverine input\n",
    "F_oc_carb=.8#Gt/yr\n",
    "F_oc_org=.4+delta#Gt/yr\n",
    "\n",
    "F_atm_oc=90+delta #Gt/yr; sea-air gas exchange\n",
    "F_oc_atm=90 #Gt/yr; sea-air gas exchange"
   ]
  },
  {
   "cell_type": "code",
   "execution_count": 169,
   "id": "1a9f260b-fb13-4e62-a738-497f7d185360",
   "metadata": {},
   "outputs": [],
   "source": [
    "#####Reservoir masses\n",
    "atm_ppm=350#approximation from compilations in Steinthorshaddir et al., 2020\n",
    "M_atm=2.13*atm_ppm #convert from ppm to Gt C\n",
    "M_ocean=38000#GtC\n"
   ]
  },
  {
   "cell_type": "code",
   "execution_count": 170,
   "id": "88604e40-9dd3-48ee-a9f4-3dbab0770e14",
   "metadata": {},
   "outputs": [],
   "source": [
    "#####Initial d13C\n",
    "d13C_atm=-6 #initial preanthropogenic carbon isotopic composition of atmosphere\n",
    "d13C_volc=5 #composition of volcanigenic CO2\n",
    "d13C_riv=-7.5 #composition of volcanigenic CO2\n",
    "d13C_ocean=0.5 #initial composition of DIC; benthic foraminifera, from U1264, Steinthorshaddir et al., 2020.\n",
    "d13C_org=-25\n",
    "\n",
    "###Process fractionation:\n",
    "atm_to_ocean=-2 #fractionation from atmosphere to ocean, Siegenthaller and Munnich,1981\n",
    "ocean_to_atm=-10 #fractionation from ocean to atmosphere\n"
   ]
  },
  {
   "cell_type": "markdown",
   "id": "9fa93d83-24ab-4c61-adc7-6bc74fa84528",
   "metadata": {},
   "source": [
    "### _Define parameters for outputs:_"
   ]
  },
  {
   "cell_type": "code",
   "execution_count": 171,
   "id": "b300d557-0fb2-414c-ab96-9f00f3770b78",
   "metadata": {},
   "outputs": [
    {
     "data": {
      "text/plain": [
       "37999.99999999999"
      ]
     },
     "execution_count": 171,
     "metadata": {},
     "output_type": "execute_result"
    }
   ],
   "source": [
    "Res_time_ocean=M_ocean/(F_atm_oc+F_riv-F_oc_org-F_oc_carb)\n",
    "SS_Mass=(M_ocean+F_atm_oc-F_oc_atm+F_riv-F_oc_carb-F_oc_org)\n",
    "SS_Mass"
   ]
  },
  {
   "cell_type": "code",
   "execution_count": 172,
   "id": "014c174d-2f35-4577-9166-952c08c5f2a3",
   "metadata": {},
   "outputs": [
    {
     "name": "stdout",
     "output_type": "stream",
     "text": [
      "1.4829724570493596\n"
     ]
    }
   ],
   "source": [
    "#steady state \n",
    "Ocean_ss=((d13C_ocean*M_ocean)+(F_atm_oc*(d13C_atm+atm_to_ocean))-(F_atm_oc*(d13C_ocean+ocean_to_atm))+(F_riv*d13C_riv)-(F_oc_carb*d13C_ocean)-(F_oc_org*d13C_org))/(M_ocean+F_atm_oc-F_atm_oc+F_riv-F_oc_carb-F_oc_org)\n",
    "print(Ocean_ss)"
   ]
  },
  {
   "cell_type": "code",
   "execution_count": 173,
   "id": "ae0fb9e7-1364-46c5-bcbc-57dd9fee51d9",
   "metadata": {},
   "outputs": [
    {
     "data": {
      "image/png": "[encoded data removed]",
      "text/plain": [
       "<Figure size 432x288 with 1 Axes>"
      ]
     },
     "metadata": {
      "needs_background": "light"
     },
     "output_type": "display_data"
    }
   ],
   "source": [
    "#Introduce time dependency\n",
    "t=np.linspace(0,(int(Res_time_ocean)*6),100)\n",
    "for i in range(0,len(t)):\n",
    "    x=t[i]\n",
    "\n",
    "    y=Ocean_ss-((Ocean_ss-d13C_ocean)*(math.exp((-t[i]-0)/Res_time_ocean)))\n",
    "\n",
    "    plt.scatter(x,y)"
   ]
  },
  {
   "cell_type": "code",
   "execution_count": 139,
   "id": "27e3ea9f-78fb-419a-bab5-597394af03f7",
   "metadata": {},
   "outputs": [
    {
     "data": {
      "text/plain": [
       "422.22222222222223"
      ]
     },
     "execution_count": 139,
     "metadata": {},
     "output_type": "execute_result"
    }
   ],
   "source": [
    "Res_time_ocean"
   ]
  },
  {
   "cell_type": "code",
   "execution_count": null,
   "id": "3e30b3c6-331a-4d73-a155-f26942a1fb67",
   "metadata": {},
   "outputs": [],
   "source": []
  },
  {
   "cell_type": "code",
   "execution_count": null,
   "id": "1f7ca8e0-cc02-4170-82e8-de9e71e5fe6a",
   "metadata": {},
   "outputs": [],
   "source": []
  },
  {
   "cell_type": "code",
   "execution_count": null,
   "id": "ab122cc8-d908-428e-b59a-80474e234cc9",
   "metadata": {},
   "outputs": [],
   "source": []
  },
  {
   "cell_type": "code",
   "execution_count": null,
   "id": "80771edf-33fd-4b4a-b419-5fe74bfad995",
   "metadata": {},
   "outputs": [],
   "source": []
  },
  {
   "cell_type": "code",
   "execution_count": null,
   "id": "22b5b6d3-441f-4a9d-81c9-b6745a110e20",
   "metadata": {},
   "outputs": [],
   "source": [
    "Reservoirs (mass of carbon):\n",
    "INIT Atmosphere = 600 {Gt C}\n",
    "INIT Deep_Ocean = 38000 {Gt C}\n",
    "INIT Surface_Ocean = 884.391 {Gt C}\n",
    " \n",
    "Reservoirs (isotopic ratios of carbon):\n",
    "INIT del_13C_Atm = -6 {pre-industrial del13C}\n",
    "INIT del_13C_SO = 2.5\n",
    "INIT del_13C_DO = 1.1\n",
    " \n",
    "Flows(mass of carbon):\n",
    "fires = GRAPH(time)\n",
    "(0.00, 0.00), (0.5, 0.00), (1.00, 0.00), (1.50, 0.00), (2.00, 0.00), (2.50, 0.00), (3.00, 0.00), (3.50, 0.00), (4.00, 0.00), (4.50, 0.00), (5.00, 0.00)\n",
    "oc--atm_exchange = k_ao*(pCO2_atm-pCO2_Ocean)\n",
    "downwell = ((1*NPP/8)+(140.2/1.4))*(Surface_Ocean/INIT(Surface_Ocean))\n",
    "upwell = (150/1.4)*(Deep_Ocean/INIT(Deep_Ocean))\n",
    "runoff = 1\n",
    "inorg_dep = .6*NPP/8 {carbonate sediment deposited on the sea floor and buried}\n",
    "org_C_dep = .4*NPP/8 {organic carbon deposited on the sea floor and buried}\n",
    "org_C_Trans = 6*NPP/8 {organic carbon transferred to deep ocean, but not buried}\n",
    " \n",
    "Flows (isotopic ratios of carbon):\n",
    "isotope_change = (1/Atmosphere)*((Fires*(del_13C__plants-del_13C_Atm))+ao_change)\n",
    "iso_change_DO = (1/Deep_Ocean)*((downwell*(del_13C_SO-del_13C_DO))+(Org_C_Trans*(del_13C_SO-25-del_13C_DO)))\n",
    "iso_change_SO = (1/Surface_Ocean)*((runoff*(del_riv-del_13C_SO))+oa_change+(upwell*(del_13C_DO-del_13C_SO))+((org_C_dep+Org_C_Trans)*25))\n",
    " \n",
    " \n",
    "Converters (masses of carbon):\n",
    "Alk_Surf = 2.24\n",
    "CO3 = (Alk_Surf-HCO3)/2\n",
    "HCO3 = (Surf_C_conc-SQRT(Surf_C_conc^2-Alk_Surf*(2*Surf_C_conc-Alk_Surf)*(1-4*Kcarb)))/(1-4*Kcarb)\n",
    "Kcarb = .000575+.000006*(T_surf-278)\n",
    "KCO2 = .035+.0019*(T_surf-278)\n",
    "k_ao = .278 {Gt C/yr/ppm -- the observationally-derived rate constant; this is for the entire surface area of the ocean}\n",
    "pCO2_atm = Atmosphere*(280/600)\n",
    "pCO2_Ocean = 350*KCO2*(HCO3^2/CO3)\n",
    "Surf_C_conc = (Surface_Ocean/12000)/Vol_surf {1e18 moles/m^3}\n",
    "T_surf = 288 {°K}\n",
    "Vol_surf = .0363 {units are 1E18 m^3 -- this is the upper 100 m}\n",
    "NPP = GRAPH(time {Gt C/yr net primary production -- net carbon extracted from sea water by organisms})\n",
    "(0.00, 8.00), (10.0, 8.00), (20.0, 8.00), (30.0, 8.00), (40.0, 8.00), (50.0, 8.00), (60.0, 8.00), (70.0, 8.00), (80.0, 8.00), (90.0, 8.00), (100, 8.00)\n",
    " \n",
    "Converters (isotopes of carbon):\n",
    "del_13C__plants = -20 {del13C of fossil fuels}\n",
    "del_riv = -7.5 {avg isotopic value of carbon delivered by rivers}\n",
    "ao_shift = if oc--atm_exchange>0 then -2 else -9.5 {the isotopic shift of the ocean-air transfer depends on the direction of flow -- data from Siegenthaler and Munnich, 1981}\n",
    "ao_change = if oc--atm_exchange>0 then -oc--atm_exchange*ao_shift else oc--atm_exchange*(del_13C_SO+ao_shift+del_13C_Atm) {net effect of the ocean-air transfer}\n",
    "oa_change = if oc--atm_exchange>0 then oc--atm_exchange*(del_13C_Atm+ao_shift-del_13C_SO) else -oc--atm_exchange*ao_shift {net effect of the ocean-air transfer}"
   ]
  },
  {
   "cell_type": "markdown",
   "id": "407aaf86-283e-49a5-b5f7-775f78decb6f",
   "metadata": {},
   "source": [
    "## _Box model:_"
   ]
  },
  {
   "cell_type": "code",
   "execution_count": null,
   "id": "2547f38a-8d54-4b4f-a253-c03463291d72",
   "metadata": {},
   "outputs": [],
   "source": []
  },
  {
   "cell_type": "markdown",
   "id": "caa16800-d7ac-400d-822e-c29270d09a8c",
   "metadata": {},
   "source": [
    "### _introduce time dependency:_"
   ]
  },
  {
   "cell_type": "code",
   "execution_count": null,
   "id": "018bedab-44b2-450c-b08a-d062aba74d58",
   "metadata": {},
   "outputs": [],
   "source": []
  }
 ],
 "metadata": {
  "kernelspec": {
   "display_name": "Python 3",
   "language": "python",
   "name": "python3"
  },
  "language_info": {
   "codemirror_mode": {
    "name": "ipython",
    "version": 3
   },
   "file_extension": ".py",
   "mimetype": "text/x-python",
   "name": "python",
   "nbconvert_exporter": "python",
   "pygments_lexer": "ipython3",
   "version": "3.8.8"
  }
 },
 "nbformat": 4,
 "nbformat_minor": 5
}
